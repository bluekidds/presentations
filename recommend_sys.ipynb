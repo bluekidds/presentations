{
 "metadata": {
  "celltoolbar": "Slideshow",
  "name": "",
  "signature": "sha256:1de8593c5fdb2d22f5e60441a02e17c74e53ad616c3f3920c87151cc920680ee"
 },
 "nbformat": 3,
 "nbformat_minor": 0,
 "worksheets": [
  {
   "cells": [
    {
     "cell_type": "heading",
     "level": 1,
     "metadata": {
      "slideshow": {
       "slide_type": "slide"
      }
     },
     "source": [
      "\u63a8\u85a6\u7cfb\u7d71\u5efa\u7f6e"
     ]
    },
    {
     "cell_type": "markdown",
     "metadata": {
      "slideshow": {
       "slide_type": "subslide"
      }
     },
     "source": [
      "##\u60c5\u5883:\n",
      "\n",
      "\u5f9e\u516c\u53f8\u96e2\u958b\u5ea7\u4f4d\uff0c\u6253\u958bapp\u6c7a\u5b9a\u8981\u5403\u4ec0\u9ebc\u3002\u51fa\u73fe\u4e5d\u500b\u559c\u6b61\u5403\u7684\u5e97\u5bb6\u548c\u4ed6\u7684\u83dc\u991a\u3002\u9078\u64c7\u4e86\u5176\u4e2d\u4e00\u500b\u4e26\u9ede\u9078\u8a02\u8cfc\u3002\n",
      "\n",
      "\u7cfb\u7d71\u5f9e\u6253\u958bapp\u4e2d\uff0c\u5c07\n",
      "\n",
      " * \u6240\u5728\u5ea7\u6a19\n",
      " * \u7528\u9910\u6642\u6bb5\n",
      " * \u7528\u9910\u65e5\u671f\n",
      " * \u7528\u9910\u65b9\u5f0f\n",
      " * \u4f7f\u7528\u8005ID\n",
      " \n",
      " \u4e0a\u50b3\u81f3server\u7aef\uff0c\u6b64\u6642server\u6839\u64da\u904e\u6ffe\u689d\u4ef6(\u8ddd\u96e2\uff0c\u6642\u6bb5\uff0c\u65b9\u5f0f)\u5148\u884c\u904e\u6ffe\u51fa\u8f03\u5c0f\u7bc4\u570d\u4e4b\u9910\u5ef3\u3002\u518d\u6839\u64da\u7cfb\u7d71\u7d66\u4e88\u4e4b\u7d9c\u5408\u5206\u6578\u8a08\u7b97\u6bcf\u4e00\u500b\u9805\u76ee\uff0c\u5c07"
     ]
    },
    {
     "cell_type": "markdown",
     "metadata": {
      "slideshow": {
       "slide_type": "subslide"
      }
     },
     "source": [
      "\u672c\u63a8\u85a6\u7cfb\u7d71\u8a2d\u8a08\u4e2d\u5fc3\u601d\u60f3\u6709:\n",
      "\n",
      " * \u591a\u91cd\u8a55\u6bd4 (multi-criteria)\n",
      " * \u7c21\u55ae (self-explanable)\n",
      " * \u53ef\u64f4\u5145\n",
      " * \u53ef\u96e2\u7dda\u4f5c\u696d (offline-update)\n",
      " "
     ]
    },
    {
     "cell_type": "markdown",
     "metadata": {
      "slideshow": {
       "slide_type": "subslide"
      }
     },
     "source": [
      "## \u5be6\u969b\u60c5\u5f62:\n",
      "\n",
      " * \u6f14\u7b97\u6cd5\u672c\u8eab\u7684\u9032\u6b65\u7a7a\u9593\u4e0d\u5927\uff0c\u73fe\u6709\u7684\u6f14\u7b97\u6cd5\u5df2\u7d93\u6709\u76f8\u7576\u4e0d\u932f\u7684\u8868\u73fe\u3002\n",
      " * \u8fd1\u5e74\u4f86\u4f7f\u7528\u8005\u7d93\u9a57(\u96b1\u6027\u6578\u503c\u9810\u6e2c-implicit prediction)\uff0c\u548c\u8cc7\u6599\u7684\u8490\u96c6\u662f\u63a8\u52d5\u9032\u6b65\u7684\u5169\u5927\u95dc\u9375\u3002\n",
      " "
     ]
    },
    {
     "cell_type": "markdown",
     "metadata": {
      "slideshow": {
       "slide_type": "subslide"
      }
     },
     "source": [
      "\u95dc\u9375\u554f\u984c:\n",
      "\n",
      " 1. \u63a8\u85a6\u83dc\u991a\u6216\u63a8\u85a6\u5e97\u5bb6? \n",
      " 2. \u83dc\u548c\u559c\u597d\u4e4b\u9593\u95dc\u4fc2\u7121\u6cd5\u4f7f\u7528\u8cc7\u6599\u5b78\u7fd2\u3002\n",
      " 3. \u7f3a\u5c11\u8a55\u8ad6\u7cfb\u7d71\uff0c\u4ea6\u5373\u6280\u8853\u5982TFIDF\u7b49\u5206\u6790\u6587\u4ef6\u4ee5\u5efa\u7acb\u65b0\u7279\u5fb5\u66ab\u6642\u4e0d\u9700\u8981\u7814\u767c\u3002\n",
      " \n",
      " \n",
      " \u672a\u4f86\u5efa\u8b70:\n",
      "\n",
      " * \u5efa\u7f6e\u6a94\u6848\u5167\uff0c\u500b\u4eba\u559c\u597d\u8207\u6d88\u8cbb\u7d00\u9304\u61c9\u5206\u958b\u3002\n",
      " * \u4f7f\u7528\u8005\u6d88\u8cbb\u8a18\u9304\u5167\u5d4cuser profile\u3002"
     ]
    },
    {
     "cell_type": "markdown",
     "metadata": {
      "slideshow": {
       "slide_type": "slide"
      }
     },
     "source": [
      "## \u4e3b\u8981\u6f14\u7b97\u6cd5: Linear Blending Recommender\n",
      "\n",
      "\u539f\u56e0:\n",
      "\n",
      " 1. \u91dd\u5c0d\u88ab\u8a55\u7269\u7684\u8a55\u50f9\u53ef\u5206\u8a31\u591a\u9762\u5411\uff0c\u9019\u4e9b\u9762\u76f8\u69cb\u6210\u7368\u7acb\u7684\u7406\u7531\u5224\u65b7\uff0c\u5982:\n",
      "     * \u4f7f\u7528\u8005\u559c\u597d(\u611b\u5403\u9eb5\u3001\u611b\u5403\u98ef)\u8207\u6392\u65a5(\u4e0d\u5403\u8fa3\u3001\u4e0d\u5403\u725b)\u3002\n",
      "     * \u6f14\u7b97\u6cd5\u6b67\u7570\u5ea6\u8d8a\u9ad8\u8d8a\u597d\u3002\n",
      " 2. \u8a13\u7df4\u51fa\u8a31\u591a\"\u8a55\u5206\u54e1\"\uff0c\u8a55\u8ad6\u54e1\u53ef\u64f4\u5145\uff0c\u6e1b\u5c11\uff0c\u7e3d\u6578\u70ba$T$\u3002\n",
      " 3. \u4f7f\u7528 linear blending \u6280\u5de7\uff0c\u5c07\u6240\u6709\u8a55\u5206\u54e1\u7d66\u7684\u5206\u6578\uff0c\u6839\u64da\u8a13\u7df4\u8cc7\u6599\u5206\u914d\u51fa\u6b0a\u91cd\u3002\u52a0\u7e3d\u5f8c\u5f97\u5230\u6700\u5f8c\u8a55\u50f9\u5206\u6578\u3002\n",
      " \n",
      "### \u516c\u5f0f:\n",
      "\n",
      "$$ G(x) = \\sum_{t=1}^{T}\\alpha_t * g_t(x), \\alpha_t \\geq 0$$\n",
      "\n",
      "\u89e3\u6700\u4f73$\\alpha$\u4f7f\u7528 L2-Loss error function\uff0c\u518d\u5229\u7528**Stochastic Gradient Descent(SGD)**\u6c42\u5f97\u6700\u4f73\u89e3\u3002"
     ]
    },
    {
     "cell_type": "markdown",
     "metadata": {
      "slideshow": {
       "slide_type": "subslide"
      }
     },
     "source": [
      "### \u8a55\u5206\u54e1(0): Baseline \n",
      "\n",
      " * \u9810\u6e2c\u65b9\u5f0f: Item-Item + User-User \n",
      " * \u9810\u6e2c\u5047\u8a2d: \u7121\uff0c\u70ba\u7d71\u8a08\u5e73\u5747\n",
      " * \u5c0d\u8c61: \u7269\u54c1\u8a55\u50f9\n",
      " * \u512a\u9ede: \u975e\u5e38\u7c21\u55ae\uff0c\u8207\u4f7f\u7528\u8005\u504f\u597d\u7121\u95dc\uff0c\u70ba\u4e00\u773e\u4eba\u7121\u504f\u597d\u7684\u8a08\u7b97\u3002\n",
      " * \u7f3a\u9ede: \u7c21\u55ae\u4ee5\u81f4\u6e96\u78ba\u5ea6\u6ce2\u52d5\u8f03\u5927\uff0c\u4e26\u6703\u53d7\u5230\u8a55\u5206\u8f03\u5c11\u56e0\u6b64\u8b8a\u7570\u6578\u5927\u800c\u5f71\u97ff\u6574\u9ad4\u6578\u503c\u3002\n",
      "\n",
      "$$ R_{u,i} = \\mu_{all} + \\mu_{u} + \\mu_{i} $$\n",
      "\n",
      "\u5176\u4e2d\n",
      "$$ \\mu_{u} = \\frac{1}{\\|I_u\\| + r_u}\\sum_{i \\in I_u}(r_{u,i}-\\mu)$$,\n",
      "$$ \\mu_{i} = \\frac{1}{\\|U_i\\| + r_i}\\sum_{u \\in U_i}(r_{u,i}-r_{u}-\\mu)$$\n"
     ]
    },
    {
     "cell_type": "markdown",
     "metadata": {
      "slideshow": {
       "slide_type": "subslide"
      }
     },
     "source": [
      "### \u8a55\u5206\u54e1(1): Single-Criterion Collaborative Filtering \n",
      "\n",
      " * \u9810\u6e2c\u65b9\u5f0f: Item-Item Based\n",
      " * \u9810\u6e2c\u5047\u8a2d: \u4f7f\u7528\u4eba\u6578 >>> \u8a55\u6bd4\u7269\u4ef6\u6578\n",
      " * \u5c0d\u8c61: \u9910\u5ef3\u8a55\u50f9\n",
      " * \u512a\u9ede: \u57fa\u672c\u3001\u7c21\u55ae\u3002\u8207\u5e97\u5bb6\u540d\u6c23\uff0c\u904e\u53bb\u7d9c\u5408\u8a55\u50f9\u76f8\u95dc\u3002\n",
      " * \u7f3a\u9ede: \u4e26\u7121\u548c\u4f7f\u7528\u8005\u7279\u5fb5\u5efa\u7acb\u9023\u7d50\u3002\n",
      " * \u4f7f\u7528: SVD \u5206\u89e3\uff0c\u89e3\u6c7a\u7a00\u758f\u554f\u984c\n",
      "---\n",
      "\n",
      "Given $Data_{mxn}$, m: users, n: items\n",
      "\n",
      "$$Data_{mxn} = U_{mxm} \\sum_{mxn} V^T_{nxn}$$\n",
      "$$X^\\tilde = Data^T * U * \\sum $$\n",
      "\n",
      "\u518d\u4f86\u8a08\u7b97 distance: \u6b64\u8655\u63a1\u7528 cosine distance\n",
      "$$\\cos(\\theta_{i,j}) = \\frac{(item_i, item_j )}{\\|{item_i}\\|*\\|{item_j}\\|}$$\n",
      " "
     ]
    },
    {
     "cell_type": "markdown",
     "metadata": {
      "slideshow": {
       "slide_type": "subslide"
      }
     },
     "source": [
      "### \u8a55\u5206\u54e1(2): Content-based Collaborative Filtering\n",
      "\n",
      " * \u9810\u6e2c\u65b9\u5f0f: Item-Item\n",
      " * \u9810\u6e2c\u5047\u8a2d: \n",
      " * \u5c0d\u8c61: \u4f7f\u7528\u8005\u7279\u5fb5 (user profile)\n",
      " * \u5b78\u7fd2: \u6bcf\u500b\u4f7f\u7528\u8005\u91dd\u5c0d\u7279\u5fb5\u7684\u6b0a\u91cd\n",
      "---\n",
      "\n",
      "Given: \n",
      "Learn : $\\theta$ so theta times x(content) is the rating predicted.\n",
      " \n",
      " "
     ]
    },
    {
     "cell_type": "markdown",
     "metadata": {
      "slideshow": {
       "slide_type": "subslide"
      }
     },
     "source": [
      "### \u904e\u6ffe\u5668: Filter\n",
      "\n",
      " * \u4e0d\u53c3\u8207\u5b78\u7fd2\uff0c\u4f5c\u70ba\u63a8\u85a6\u6642\u5148\u884c\u7be9\u9078\u7684\u6307\u6a19\n",
      " * \u5c6c\u6027:     \n",
      "     1. \u6642\u6bb5\n",
      "     2. \u8ddd\u96e2(client)\n",
      "     3. \u7528\u9910\u578b\u614b\n",
      "     \n",
      "---\n",
      "\n",
      "### Location \u6f14\u7b97\u6cd5\n",
      "\n",
      "```python\n",
      "threshold = 500\n",
      "\n",
      "coordinate_set = find_region(current_location, threshold)\n",
      "for coords in longitude between coordinate_set[long]  and latitude between coordinate_set[lat]\n",
      "    distance = compute_distance(coords)\n",
      "    coords[distance > threshold] = []\n",
      "    \n",
      "```\n"
     ]
    },
    {
     "cell_type": "markdown",
     "metadata": {
      "slideshow": {
       "slide_type": "subslide"
      }
     },
     "source": [
      "\u5e97\u5bb6\u5730\u5740\u8f49\u5ea7\u6a19:\n",
      " * Offline\n",
      " * backend\n",
      " * Fast when computing distance\n",
      " \n",
      "IOS SDK, Google SDK: Mobile side\n",
      " "
     ]
    }
   ],
   "metadata": {}
  }
 ]
}